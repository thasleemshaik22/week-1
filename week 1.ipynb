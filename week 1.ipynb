{
 "cells": [
  {
   "cell_type": "code",
   "execution_count": 6,
   "id": "12e93795",
   "metadata": {},
   "outputs": [
    {
     "name": "stdout",
     "output_type": "stream",
     "text": [
      "[INFO] Pandas loaded - version 2.0.3\n",
      "[INFO] NumPy loaded - version 1.24.3\n"
     ]
    }
   ],
   "source": [
    "# ========== Setup & Imports ==========\n",
    "import numpy as n\n",
    "import pandas as pd\n",
    "import matplotlib.pyplot as graph\n",
    "import seaborn as ocean\n",
    "import warnings as signal_blocker\n",
    "import os\n",
    "from pathlib import Path as PathAlias\n",
    "\n",
    "# Plotting tweaks\n",
    "ocean.set_palette(\"colorblind\")\n",
    "graph.rcParams.update({'axes.titlesize': 13})\n",
    "\n",
    "# Disable all minor warnings\n",
    "signal_blocker.filterwarnings(\"ignore\")\n",
    "\n",
    "# Pretty Pandas setup\n",
    "pd.set_option('display.max_rows', 100)\n",
    "pd.set_option('display.max_columns', None)\n",
    "\n",
    "# Status prints for peace of mind\n",
    "for lib, ver in zip([\"Pandas\", \"NumPy\"], [pd.__version__, n.__version__]):\n",
    "    print(f\"[INFO] {lib} loaded - version {ver}\")\n"
   ]
  }
 ],
 "metadata": {
  "kernelspec": {
   "display_name": "Python 3",
   "language": "python",
   "name": "python3"
  },
  "language_info": {
   "codemirror_mode": {
    "name": "ipython",
    "version": 3
   },
   "file_extension": ".py",
   "mimetype": "text/x-python",
   "name": "python",
   "nbconvert_exporter": "python",
   "pygments_lexer": "ipython3",
   "version": "3.8.10"
  }
 },
 "nbformat": 4,
 "nbformat_minor": 5
}
